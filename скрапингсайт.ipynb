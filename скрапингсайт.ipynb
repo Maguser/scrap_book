{
 "cells": [
  {
   "cell_type": "code",
   "execution_count": 1,
   "id": "0dc1f9de",
   "metadata": {},
   "outputs": [],
   "source": [
    "from urllib.request import urlopen\n",
    "from urllib.error import HTTPError\n",
    "from bs4 import BeautifulSoup\n",
    "import re\n",
    "import pandas as pd"
   ]
  },
  {
   "cell_type": "code",
   "execution_count": 4,
   "id": "e05a0593",
   "metadata": {},
   "outputs": [
    {
     "name": "stdout",
     "output_type": "stream",
     "text": [
      "9\n"
     ]
    }
   ],
   "source": [
    "html_ = urlopen('https://www.tennisexplorer.com/picks/archive/?month=September-2021')\n",
    "soup = BeautifulSoup(html_, \"lxml\")\n",
    "idex = soup.find_all(class_=\"no-elink\")\n",
    "a = []\n",
    "for i in idex:\n",
    "    id_ = str(i)\n",
    "    io = int(id_[44:51])\n",
    "    a.append(io)\n",
    "    a = list(set(a))\n",
    "print(len(a))"
   ]
  },
  {
   "cell_type": "code",
   "execution_count": 3,
   "id": "30216284",
   "metadata": {},
   "outputs": [],
   "source": [
    "# полученную таблицу просто скопировать в эксель\n",
    "headers = {\n",
    "    \"Accept\": \"*/*\",\n",
    "    \"User-Agent\": \n",
    "        \"Mozilla/5.0 (Windows NT 10.0; Win64; x64) AppleWebKit/537.36 (KHTML, like Gecko) Chrome/102.0.5005.63 Safari/537.36\"\n",
    "}\n",
    "for month in ['January', 'February', \n",
    "              'March', 'April', 'May', 'June', \n",
    "              'July', 'August', 'September', 'October', 'November', 'December']:\n",
    "\n",
    "    html_ = urlopen(f'https://www.tennisexplorer.com/picks/archive/?month={month}-2014')\n",
    "    soup = BeautifulSoup(html_, \"lxml\")\n",
    "    idex = soup.find_all(class_=\"no-elink\")\n",
    "    a = []\n",
    "    for i in idex:\n",
    "        id_ = str(i)\n",
    "        io = int(id_[44:51])\n",
    "        a.append(io)\n",
    "        a = list(set(a))\n",
    "    for i in a:\n",
    "        html = urlopen('https://www.tennisexplorer.com/match-detail/?id={}'.format(i))\n",
    "        soup = BeautifulSoup(html, \"lxml\")\n",
    "        table_avg = soup.find(class_=\"average\").find_all(class_=\"odds-in\")\n",
    "        wins = soup.find(class_=\"gScore\")\n",
    "        print(str(table_avg[0].text) + \" : \" + wins.text[0], i)\n",
    "        print(str(table_avg[1].text) + \" : \" + wins.text[4])"
   ]
  },
  {
   "cell_type": "code",
   "execution_count": 8,
   "id": "d8e91a04",
   "metadata": {},
   "outputs": [],
   "source": [
    "# ПРОВЕРКА ПО ID"
   ]
  },
  {
   "cell_type": "code",
   "execution_count": 9,
   "id": "460a530b",
   "metadata": {},
   "outputs": [],
   "source": [
    "id_ = 1957376\n",
    "html = urlopen('https://www.tennisexplorer.com/match-detail/?id={}'.format(id_))\n",
    "soup = BeautifulSoup(html, \"lxml\")"
   ]
  },
  {
   "cell_type": "code",
   "execution_count": 10,
   "id": "e5a4d544",
   "metadata": {},
   "outputs": [
    {
     "name": "stdout",
     "output_type": "stream",
     "text": [
      "1.29 : 2\n",
      "3.63 : 0\n"
     ]
    }
   ],
   "source": [
    "table_avg = soup.find(class_=\"average\").find_all(class_=\"odds-in\")\n",
    "wins = soup.find(class_=\"gScore\")\n",
    "# wins.text[0:5][0]\n",
    "print(str(table_avg[0].text) + \" : \" + wins.text[0])\n",
    "print(str(table_avg[1].text) + \" : \" + wins.text[4])"
   ]
  }
 ],
 "metadata": {
  "kernelspec": {
   "display_name": "Python 3 (ipykernel)",
   "language": "python",
   "name": "python3"
  },
  "language_info": {
   "codemirror_mode": {
    "name": "ipython",
    "version": 3
   },
   "file_extension": ".py",
   "mimetype": "text/x-python",
   "name": "python",
   "nbconvert_exporter": "python",
   "pygments_lexer": "ipython3",
   "version": "3.9.7"
  }
 },
 "nbformat": 4,
 "nbformat_minor": 5
}
