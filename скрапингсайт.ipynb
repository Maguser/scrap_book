{
 "cells": [
  {
   "cell_type": "code",
   "execution_count": 1,
   "id": "0dc1f9de",
   "metadata": {},
   "outputs": [],
   "source": [
    "from urllib.request import urlopen\n",
    "from urllib.error import HTTPError\n",
    "from bs4 import BeautifulSoup\n",
    "import re\n",
    "import pandas as pd"
   ]
  },
  {
   "cell_type": "code",
   "execution_count": 4,
   "id": "e05a0593",
   "metadata": {},
   "outputs": [
    {
     "name": "stdout",
     "output_type": "stream",
     "text": [
      "9\n"
     ]
    }
   ],
   "source": [
    "html_ = urlopen('https://www.tennisexplorer.com/picks/archive/?month=September-2021')\n",
    "soup = BeautifulSoup(html_, \"lxml\")\n",
    "idex = soup.find_all(class_=\"no-elink\")\n",
    "a = []\n",
    "for i in idex:\n",
    "    id_ = str(i)\n",
    "    io = int(id_[44:51])\n",
    "    a.append(io)\n",
    "    a = list(set(a))\n",
    "print(len(a))"
   ]
  },
  {
   "cell_type": "code",
   "execution_count": 3,
   "id": "30216284",
   "metadata": {},
   "outputs": [],
   "source": [
    "# полученную таблицу просто скопировать в эксель\n",
    "headers = {\n",
    "    \"Accept\": \"*/*\",\n",
    "    \"User-Agent\": \n",
    "        \"Mozilla/5.0 (Windows NT 10.0; Win64; x64) AppleWebKit/537.36 (KHTML, like Gecko) Chrome/102.0.5005.63 Safari/537.36\"\n",
    "}\n",
    "for month in ['January', 'February', \n",
    "              'March', 'April', 'May', 'June', \n",
    "              'July', 'August', 'September', 'October', 'November', 'December']:\n",
    "\n",
    "    html_ = urlopen(f'https://www.tennisexplorer.com/picks/archive/?month={month}-2014')\n",
    "    soup = BeautifulSoup(html_, \"lxml\")\n",
    "    idex = soup.find_all(class_=\"no-elink\")\n",
    "    a = []\n",
    "    for i in idex:\n",
    "        id_ = str(i)\n",
    "        io = int(id_[44:51])\n",
    "        a.append(io)\n",
    "        a = list(set(a))\n",
    "    for i in a:\n",
    "        html = urlopen('https://www.tennisexplorer.com/match-detail/?id={}'.format(i))\n",
    "        soup = BeautifulSoup(html, \"lxml\")\n",
    "        table_avg = soup.find(class_=\"average\").find_all(class_=\"odds-in\")\n",
    "        wins = soup.find(class_=\"gScore\")\n",
    "        print(str(table_avg[0].text) + \" : \" + wins.text[0], i)\n",
    "        print(str(table_avg[1].text) + \" : \" + wins.text[4])"
   ]
  },
  {
   "cell_type": "code",
   "execution_count": 8,
   "id": "d8e91a04",
   "metadata": {},
   "outputs": [],
   "source": [
    "# ПРОВЕРКА ПО ID"
   ]
  },
  {
   "cell_type": "code",
   "execution_count": 9,
   "id": "460a530b",
   "metadata": {},
   "outputs": [],
   "source": [
    "id_ = 1957376\n",
    "html = urlopen('https://www.tennisexplorer.com/match-detail/?id={}'.format(id_))\n",
    "soup = BeautifulSoup(html, \"lxml\")"
   ]
  },
  {
   "cell_type": "code",
   "execution_count": 10,
   "id": "e5a4d544",
   "metadata": {},
   "outputs": [
    {
     "name": "stdout",
     "output_type": "stream",
     "text": [
      "1.29 : 2\n",
      "3.63 : 0\n"
     ]
    }
   ],
   "source": [
    "table_avg = soup.find(class_=\"average\").find_all(class_=\"odds-in\")\n",
    "wins = soup.find(class_=\"gScore\")\n",
    "# wins.text[0:5][0]\n",
    "print(str(table_avg[0].text) + \" : \" + wins.text[0])\n",
    "print(str(table_avg[1].text) + \" : \" + wins.text[4])"
   ]
  },
  {
   "cell_type": "code",
   "execution_count": 5,
   "id": "b5d355ef",
   "metadata": {},
   "outputs": [
    {
     "name": "stdout",
     "output_type": "stream",
     "text": [
      "2.6 : 3 1977281\n",
      "1.58 : 1\n",
      "1.68 : 2 1983945\n",
      "2.35 : 0\n",
      "2.79 : 3 1977099\n",
      "1.55 : 2\n",
      "3.41 : 3 1976628\n",
      "1.42 : 1\n",
      "1.6 : 3 1977109\n",
      "2.59 : 0\n",
      "4.6 : 3 1977239\n",
      "1.26 : 2\n",
      "4.3 : 3 1976633\n",
      "1.28 : 0\n",
      "3.4 : 2 1977277\n",
      "1.34 : 0\n",
      "1.27 : 3 1977246\n",
      "4.5 : 2\n",
      "2.75 : 2 1993641\n",
      "1.5 : 0\n",
      "4.9 : 2 1990483\n",
      "1.25 : 1\n",
      "1.19 : 2 1989156\n",
      "5.25 : 0\n",
      "3.5 : 2 1993455\n",
      "1.28 : 0\n"
     ]
    }
   ],
   "source": [
    "# лучшие коэфф, но собирают неправильно\n",
    "for month in ['September', 'October']:\n",
    "    html_ = urlopen(f'https://www.tennisexplorer.com/picks/archive/?month={month}-2021')\n",
    "    soup = BeautifulSoup(html_, \"lxml\")\n",
    "    idex = soup.find_all(class_=\"no-elink\")\n",
    "    a = []\n",
    "    for i in idex:\n",
    "        id_ = str(i)\n",
    "        io = int(id_[44:51])\n",
    "        a.append(io)\n",
    "        a = list(set(a))\n",
    "    for i in a:\n",
    "        html = urlopen('https://www.tennisexplorer.com/match-detail/?id={}'.format(i))\n",
    "        soup = BeautifulSoup(html, \"lxml\")\n",
    "    #     table_avg_vs = soup.find(class_= re.compile('[k]2\\W*')).find(class_= re.compile(\"odds-in\"))#.text[0:4]\n",
    "        table_avg_vs = soup.find(class_= re.compile('k1[ ]')).find(class_= re.compile(\"odds-in\")).text[0:4]\n",
    "        table_avg = soup.find(class_ = re.compile('k2[ ]')).find(class_= re.compile(\"odds-in\")).text[0:4]\n",
    "        wins = soup.find(class_=\"gScore\")\n",
    "        print(float(table_avg), ':', int(wins.text[0]), i)\n",
    "        print(float(table_avg_vs), ':', int(wins.text[4]))\n"
   ]
  },
  {
   "cell_type": "code",
   "execution_count": 7,
   "id": "05fbe7e8",
   "metadata": {},
   "outputs": [],
   "source": [
    "# левый и правый столбец Openning odds вытащил. Ниже можно избавится от повторяющихся значений разными способами"
   ]
  },
  {
   "cell_type": "code",
   "execution_count": 108,
   "id": "e87c3eab",
   "metadata": {},
   "outputs": [
    {
     "name": "stdout",
     "output_type": "stream",
     "text": [
      "1977281 1.57 1.57 3 1\n",
      "1983945 2.17 1.66 2 0\n",
      "1977099 1.47 1.47 3 2\n",
      "1976628 1.50 2.85 3 1\n",
      "1977109 2.80 1.50 3 0\n",
      "1977239 1.27 4.20 3 2\n",
      "1976633 1.29 3.95 3 0\n",
      "1977277 1.35 3.45 2 0\n",
      "1977246 4.30 4.30 3 2\n"
     ]
    }
   ],
   "source": [
    "html_ = urlopen('https://www.tennisexplorer.com/picks/archive/?month=September-2021')\n",
    "soup = BeautifulSoup(html_, \"lxml\")\n",
    "idex = soup.find_all(class_=\"no-elink\")\n",
    "a = []\n",
    "for i in idex:\n",
    "    id_ = str(i)\n",
    "    io = int(id_[44:51])\n",
    "    a.append(io)\n",
    "    a = list(set(a))\n",
    "for i in a:\n",
    "    html = urlopen('https://www.tennisexplorer.com/match-detail/?id={}'.format(i))\n",
    "    soup = BeautifulSoup(html, \"lxml\")\n",
    "    #table_avg_vs = soup.find(class_ = re.compile('[pin]')).find(class_=re.compile(\"odds-in\")).text[0:4]\n",
    "    table_avg = soup.find(class_=\"odds-change-div\").find(\"td\", text=\"Opening odds\").find_next().find(class_='bold').text\n",
    "    table_avg_vs = soup.find(class_='odds-in oup').find(class_=\"odds-change-div\").find(\"td\", text=\"Opening odds\").find_next().find(class_='bold').text\n",
    "    wins = soup.find(class_=\"gScore\")\n",
    "#     print(float(table_avg), ':', int(wins.text[0]))\n",
    "#     print(float(table_avg_vs), ':', int(wins.text[4]))\n",
    "#     print(table_avg_vs.text, i, table_avg.text)\n",
    "    print(i, table_avg, table_avg_vs, int(wins.text[0]), int(wins.text[4]))"
   ]
  },
  {
   "cell_type": "code",
   "execution_count": 8,
   "id": "3c7e45dd",
   "metadata": {},
   "outputs": [],
   "source": [
    "# задача вытащить определенного букмекера"
   ]
  },
  {
   "cell_type": "code",
   "execution_count": 155,
   "id": "b3e3246f",
   "metadata": {},
   "outputs": [
    {
     "name": "stdout",
     "output_type": "stream",
     "text": [
      "<div class=\"odds-in oup\">1.58<div class=\"odds-change-div\"><table cellspacing=\"0\"><tr><td>06.09. 00:45</td><td class=\"bold\">1.58</td><td class=\"diff-up\">+0.01</td></tr><tr><td class=\"title\" colspan=\"3\">Opening odds</td></tr><tr><td>04.09. 11:37</td><td class=\"bold\">1.57</td><td class=\"diff-down\">&amp;nbsp</td></tr></table></div></div> 1977281\n",
      "<div class=\"odds-in\">2.35</div> 1983945\n",
      "<div class=\"odds-in oup\">1.55<div class=\"odds-change-div\"><table cellspacing=\"0\"><tr><td>04.09. 16:49</td><td class=\"bold\">1.55</td><td class=\"diff-up\">+0.08</td></tr><tr><td class=\"title\" colspan=\"3\">Opening odds</td></tr><tr><td>03.09. 02:09</td><td class=\"bold\">1.47</td><td class=\"diff-down\">&amp;nbsp</td></tr></table></div></div> 1977099\n",
      "<div class=\"odds-in oup\">3.41<div class=\"odds-change-div\"><table cellspacing=\"0\"><tr><td>02.09. 21:04</td><td class=\"bold\">3.41</td><td class=\"diff-up\">+1.17</td></tr><tr><td class=\"title\" colspan=\"3\">Opening odds</td></tr><tr><td>01.09. 07:39</td><td class=\"bold\">2.24</td><td class=\"diff-down\">&amp;nbsp</td></tr></table></div></div> 1976628\n",
      "<div class=\"odds-in oup\">1.60<div class=\"odds-change-div\"><table cellspacing=\"0\"><tr><td>04.09. 21:52</td><td class=\"bold\">1.60</td><td class=\"diff-up\">+0.10</td></tr><tr><td class=\"title\" colspan=\"3\">Opening odds</td></tr><tr><td>03.09. 09:25</td><td class=\"bold\">1.50</td><td class=\"diff-down\">&amp;nbsp</td></tr></table></div></div> 1977109\n",
      "<div class=\"odds-in oup\">4.60<div class=\"odds-change-div\"><table cellspacing=\"0\"><tr><td>05.09. 22:46</td><td class=\"bold\">4.60</td><td class=\"diff-up\">+0.40</td></tr><tr><td class=\"title\" colspan=\"3\">Opening odds</td></tr><tr><td>04.09. 03:28</td><td class=\"bold\">4.20</td><td class=\"diff-down\">&amp;nbsp</td></tr></table></div></div> 1977239\n",
      "<div class=\"odds-in\">1.28</div> 1976633\n",
      "<div class=\"odds-in odown\">1.34<div class=\"odds-change-div\"><table cellspacing=\"0\"><tr><td>05.09. 19:38</td><td class=\"bold\">1.34</td><td class=\"diff-down\">-0.01</td></tr><tr><td class=\"title\" colspan=\"3\">Opening odds</td></tr><tr><td>04.09. 11:46</td><td class=\"bold\">1.35</td><td class=\"diff-down\">&amp;nbsp</td></tr></table></div></div> 1977277\n",
      "<div class=\"odds-in odown\">1.27<div class=\"odds-change-div\"><table cellspacing=\"0\"><tr><td>05.09. 16:46</td><td class=\"bold\">1.27</td><td class=\"diff-down\">-0.03</td></tr><tr><td class=\"title\" colspan=\"3\">Opening odds</td></tr><tr><td>04.09. 07:12</td><td class=\"bold\">1.30</td><td class=\"diff-down\">&amp;nbsp</td></tr></table></div></div> 1977246\n"
     ]
    }
   ],
   "source": [
    "html_ = urlopen('https://www.tennisexplorer.com/picks/archive/?month=September-2021')\n",
    "soup = BeautifulSoup(html_, \"lxml\")\n",
    "idex = soup.find_all(class_=\"no-elink\")\n",
    "a = []\n",
    "for i in idex:\n",
    "    id_ = str(i)\n",
    "    io = int(id_[44:51])\n",
    "    a.append(io)\n",
    "    a = list(set(a))\n",
    "for i in a:\n",
    "    html = urlopen('https://www.tennisexplorer.com/match-detail/?id={}'.format(i))\n",
    "    soup = BeautifulSoup(html, \"lxml\")\n",
    "#     table_avg_vs = soup.find(class_= re.compile('[k]2\\W*')).find(class_= re.compile(\"odds-in\"))#.text[0:4]\n",
    "#     table_avg_vs = soup.find(class_= 'k1').find(class_= re.compile(\"odds-in\")).text[0:4]\n",
    "    table_avg = soup.find(class_ = re.compile('[k]\\d{1}?[ ]'))\\\n",
    "        .find(class_= re.compile(\"odds-in\"))#.find(class_=\"diff-down\").find_previous_sibling()\n",
    "#     wins = soup.find(class_=\"gScore\")\n",
    "#     print(float(table_avg), ':', int(wins.text[0]), i)\n",
    "#     print(float(table_avg_vs), ':', int(wins.text[4]))\n",
    "    print(table_avg, i)"
   ]
  },
  {
   "cell_type": "code",
   "execution_count": 12,
   "id": "fb718555",
   "metadata": {},
   "outputs": [],
   "source": [
    "# Все коэфф пока показывают свою неэффективность. Есть гипотеза: собрать лучшие коэф. \n",
    "# Код выше не позволяет это делать. А определ бука будет выдавать с ошибками"
   ]
  }
 ],
 "metadata": {
  "kernelspec": {
   "display_name": "Python 3 (ipykernel)",
   "language": "python",
   "name": "python3"
  },
  "language_info": {
   "codemirror_mode": {
    "name": "ipython",
    "version": 3
   },
   "file_extension": ".py",
   "mimetype": "text/x-python",
   "name": "python",
   "nbconvert_exporter": "python",
   "pygments_lexer": "ipython3",
   "version": "3.9.7"
  }
 },
 "nbformat": 4,
 "nbformat_minor": 5
}
